{
 "cells": [
  {
   "attachments": {},
   "cell_type": "markdown",
   "metadata": {},
   "source": [
    "## Usings"
   ]
  },
  {
   "cell_type": "code",
   "execution_count": 58,
   "metadata": {},
   "outputs": [],
   "source": [
    "import os\n",
    "from PIL import Image\n",
    "import numpy as np\n",
    "import matplotlib.pyplot as plt"
   ]
  },
  {
   "attachments": {},
   "cell_type": "markdown",
   "metadata": {},
   "source": [
    "## Work with files"
   ]
  },
  {
   "cell_type": "code",
   "execution_count": 59,
   "metadata": {},
   "outputs": [
    {
     "name": "stdout",
     "output_type": "stream",
     "text": [
      "['EV-5.jpg', 'EV-4.jpg', 'EV-3.jpg', 'EV-2.jpg', 'EV-1.jpg', 'EV0.jpg', 'EV1.jpg', 'EV2.jpg', 'EV3.jpg', 'EV4.jpg', 'EV5.jpg']\n"
     ]
    }
   ],
   "source": [
    "dir_path = 'pics/'\n",
    "lst_files = []\n",
    "for path in os.listdir(dir_path):\n",
    "    if os.path.isfile(os.path.join(dir_path,path)):\n",
    "        lst_files.append(path)\n",
    "lst_files[0:5] = lst_files[0:5][::-1]\n",
    "print(lst_files)"
   ]
  },
  {
   "attachments": {},
   "cell_type": "markdown",
   "metadata": {},
   "source": [
    "## Calculating log of brightness"
   ]
  },
  {
   "cell_type": "code",
   "execution_count": 60,
   "metadata": {},
   "outputs": [],
   "source": [
    "temp_lst = []\n",
    "for file_jpg in lst_files:\n",
    "    img = np.asarray(Image.open(dir_path+file_jpg))\n",
    "    tmp = list(map(lambda row : list(map(lambda cell : np.mean(cell), row)), img[0:100, 0:100]))\n",
    "    temp_lst.append(np.log(np.mean(tmp)))"
   ]
  },
  {
   "attachments": {},
   "cell_type": "markdown",
   "metadata": {},
   "source": [
    "## Plot EValue / log of brigthness"
   ]
  },
  {
   "cell_type": "code",
   "execution_count": 67,
   "metadata": {},
   "outputs": [
    {
     "data": {
      "image/png": "[encoded data removed]",
      "text/plain": [
       "<Figure size 432x288 with 1 Axes>"
      ]
     },
     "metadata": {
      "needs_background": "light"
     },
     "output_type": "display_data"
    }
   ],
   "source": [
    "plt.plot(list(map(lambda x : int(x.replace('EV', '').replace('.jpg', '')), lst_files)), temp_lst)\n",
    "plt.xlabel('EV')\n",
    "plt.ylabel('log_brightness')\n",
    "plt.savefig('graphic.png')\n",
    "plt.show()"
   ]
  }
 ],
 "metadata": {
  "kernelspec": {
   "display_name": "Python 3",
   "language": "python",
   "name": "python3"
  },
  "language_info": {
   "codemirror_mode": {
    "name": "ipython",
    "version": 3
   },
   "file_extension": ".py",
   "mimetype": "text/x-python",
   "name": "python",
   "nbconvert_exporter": "python",
   "pygments_lexer": "ipython3",
   "version": "3.9.7"
  },
  "orig_nbformat": 4,
  "vscode": {
   "interpreter": {
    "hash": "c8081ed89012abcd49c7e19f630b494956719821333c1d485dd70c9aacdb1ead"
   }
  }
 },
 "nbformat": 4,
 "nbformat_minor": 2
}
